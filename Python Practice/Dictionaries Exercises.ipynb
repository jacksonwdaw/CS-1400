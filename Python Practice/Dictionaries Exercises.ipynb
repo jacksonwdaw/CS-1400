{
 "cells": [
  {
   "cell_type": "code",
   "execution_count": 1,
   "metadata": {},
   "outputs": [
    {
     "name": "stdout",
     "output_type": "stream",
     "text": [
      "Josh Jung\n",
      "9000\n",
      "3\n"
     ]
    }
   ],
   "source": [
    "# WRITE YOUR CODE HERE\n",
    "def find_key(d,v):\n",
    "  for key, value in example_dict.items():\n",
    "    if v == value:\n",
    "      return key\n",
    "\n",
    "# test code below\n",
    "if __name__ == \"__main__\":\n",
    "  example_dict = {\n",
    "    1 : ['red', 'blue', 'green'],\n",
    "    'Josh Jung' : (9, 10),\n",
    "    3 : {0 : 0},\n",
    "    9000 : 'impale mat a'\n",
    "  }\n",
    "\n",
    "# do not submit past this\n",
    "key = find_key(example_dict, (9, 10))\n",
    "print(key)\n",
    "key = find_key(example_dict, 'impale mat a')\n",
    "print(key)\n",
    "key = find_key(example_dict, {0 : 0})\n",
    "print(key)"
   ]
  },
  {
   "cell_type": "code",
   "execution_count": 10,
   "metadata": {},
   "outputs": [
    {
     "name": "stdout",
     "output_type": "stream",
     "text": [
      "1\n",
      "{2: 'two', 3: 'three', 1: 'one'}\n"
     ]
    }
   ],
   "source": [
    "# WRITE YOUR CODE HERE\n",
    "def move_to_bottom(example_dict,k):\n",
    "  for key in list(example_dict.keys()):\n",
    "      if k == key:\n",
    "        value = example_dict.pop(k)\n",
    "        example_dict[k] = value\n",
    "        # example_dict.update(k) \n",
    "        return example_dict\n",
    "  return \"The key is not in the dictionary\"\n",
    "      \n",
    "\n",
    "# test code below\n",
    "if __name__ == \"__main__\":\n",
    "  example_dict = {\n",
    "    1 : 'one',\n",
    "    2 : 'two',\n",
    "    3 : 'three'\n",
    "  }\n",
    "\n",
    "  print(move_to_bottom(example_dict, 1))"
   ]
  },
  {
   "cell_type": "code",
   "execution_count": 11,
   "metadata": {},
   "outputs": [
    {
     "name": "stdout",
     "output_type": "stream",
     "text": [
      "{2: 'two', 3: 'three', 1: 'one'}\n"
     ]
    }
   ],
   "source": [
    "# WRITE YOUR CODE HERE\n",
    "def move_to_bottom(example_dict,k):\n",
    "  if k in example_dict:\n",
    "    example_dict[k] = example_dict.pop(k)\n",
    "    return example_dict\n",
    "  return \"The key is not in the dictionary\"\n",
    "      \n",
    "\n",
    "# test code below\n",
    "if __name__ == \"__main__\":\n",
    "  example_dict = {\n",
    "    1 : 'one',\n",
    "    2 : 'two',\n",
    "    3 : 'three'\n",
    "  }\n",
    "\n",
    "  print(move_to_bottom(example_dict, 1))"
   ]
  },
  {
   "cell_type": "code",
   "execution_count": 19,
   "metadata": {},
   "outputs": [
    {
     "name": "stdout",
     "output_type": "stream",
     "text": [
      "Cannot swap the keys and values for this dictionary\n"
     ]
    }
   ],
   "source": [
    "# WRITE YOUR CODE HERE\n",
    "def swap(example_dict):\n",
    "  new_dict = {}\n",
    "  try:\n",
    "    new_dict = dict([(value, key) for key, value in example_dict.items()])\n",
    "  except TypeError:\n",
    "    return \"Cannot swap the keys and values for this dictionary\" \n",
    "  return new_dict\n",
    "  \n",
    "\n",
    "\n",
    "\n",
    "# test code below\n",
    "if __name__ == \"__main__\":\n",
    "  example_dict = {\n",
    "    1 : [2, 3],\n",
    "    2 : 'two',\n",
    "    3 : 'three'\n",
    "  }\n",
    "\n",
    "  swapped = swap(example_dict)\n",
    "  print(swapped)"
   ]
  },
  {
   "cell_type": "code",
   "execution_count": 20,
   "metadata": {},
   "outputs": [
    {
     "name": "stdout",
     "output_type": "stream",
     "text": [
      "False\n"
     ]
    }
   ],
   "source": [
    "# WRITE YOUR CODE HERE\n",
    "def is_nested(example_dict):\n",
    "    for key, value in example_dict.items():\n",
    "       if type(value) in [list, tuple, dict]:\n",
    "          return True\n",
    "    return False\n",
    "\n",
    "# test code below\n",
    "if __name__ == \"__main__\":\n",
    "  example_dict = {\n",
    "    1 : 'one',\n",
    "    2 : 'two',\n",
    "    3 : 'three'\n",
    "  }\n",
    "\n",
    "  print(is_nested(example_dict))"
   ]
  },
  {
   "cell_type": "code",
   "execution_count": 24,
   "metadata": {},
   "outputs": [
    {
     "name": "stdout",
     "output_type": "stream",
     "text": [
      "Dictionary 1 is longer than dictionary 2\n"
     ]
    }
   ],
   "source": [
    "# WRITE YOUR CODE HERE\n",
    "import json\n",
    "def compare(file1, file2):\n",
    "    data1 = json.load(open(file1))\n",
    "    data2 = json.load(open(file2))\n",
    "    if len(data1) > len(data2):\n",
    "       return \"Dictionary 1 is longer than dictionary 2\"\n",
    "    if len(data1) < len(data2):\n",
    "       return \"Dictionary 2 is longer than dictionary 1\"\n",
    "    if data1 == data2:\n",
    "       return \"The dictionaries are equal\"\n",
    "    return \"Dictionary 1 and dictionary 2 have the same length\"\n",
    "\n",
    "# test code below\n",
    "if __name__ == \"__main__\":\n",
    "  import sys\n",
    "  file1 = \"bored.json\"\n",
    "  file2 = \"coin_desk.json\"\n",
    "#   file1 = sys.argv[1]\n",
    "#   file2 = sys.argv[2]\n",
    "  print(compare(file1, file2))\n"
   ]
  }
 ],
 "metadata": {
  "kernelspec": {
   "display_name": "Python 3",
   "language": "python",
   "name": "python3"
  },
  "language_info": {
   "codemirror_mode": {
    "name": "ipython",
    "version": 3
   },
   "file_extension": ".py",
   "mimetype": "text/x-python",
   "name": "python",
   "nbconvert_exporter": "python",
   "pygments_lexer": "ipython3",
   "version": "3.11.1"
  },
  "orig_nbformat": 4
 },
 "nbformat": 4,
 "nbformat_minor": 2
}
