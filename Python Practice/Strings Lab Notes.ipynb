{
 "cells": [
  {
   "cell_type": "code",
   "execution_count": 3,
   "metadata": {},
   "outputs": [
    {
     "name": "stdout",
     "output_type": "stream",
     "text": [
      "I *m b*g g*y\n",
      "I *m b*g g*y\n"
     ]
    }
   ],
   "source": [
    "def replacer(my_string):\n",
    "    vowels = [\"a\",\"e\",\"i\",\"o\",\"u\"]\n",
    "    for val in vowels:\n",
    "        my_string = my_string.replace(val, \"*\")\n",
    "    print(my_string)\n",
    "    return my_string\n",
    "\n",
    "\n",
    "print(replacer(\"I am big gay\"))"
   ]
  },
  {
   "cell_type": "code",
   "execution_count": null,
   "metadata": {},
   "outputs": [],
   "source": [
    "my_string = \"Calvin\"\n",
    "vowels = \"aeiou\"\n",
    "modified_string = \"\"\n",
    "\n",
    "for char in my_string:\n",
    "    if char in vowels:\n",
    "        modified_string += \"*\"\n",
    "    else:\n",
    "        modified_string += char\n",
    "\n",
    "print(modified_string)"
   ]
  },
  {
   "cell_type": "code",
   "execution_count": null,
   "metadata": {},
   "outputs": [],
   "source": [
    "my_string = \"Hobbes\"\n",
    "vowels = \"aeiou\"\n",
    "\n",
    "for vowel in vowels:\n",
    "    my_string = my_string.replace(vowel, \"*\")\n",
    "\n",
    "print(my_string)"
   ]
  }
 ],
 "metadata": {
  "kernelspec": {
   "display_name": "Python 3",
   "language": "python",
   "name": "python3"
  },
  "language_info": {
   "codemirror_mode": {
    "name": "ipython",
    "version": 3
   },
   "file_extension": ".py",
   "mimetype": "text/x-python",
   "name": "python",
   "nbconvert_exporter": "python",
   "pygments_lexer": "ipython3",
   "version": "3.11.1"
  },
  "orig_nbformat": 4
 },
 "nbformat": 4,
 "nbformat_minor": 2
}
