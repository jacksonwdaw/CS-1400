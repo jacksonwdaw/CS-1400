{
 "cells": [
  {
   "cell_type": "code",
   "execution_count": null,
   "metadata": {},
   "outputs": [],
   "source": [
    "# lab 1 prompt 1:\n",
    "doctor_called = (\"The doctor called today to see if I had any problems getting my medication and if my condition had improved with the medication since I took it.\")\n",
    "def find_longest_string_and_freq(data):\n",
    "  data_split = data.split(\" \")\n",
    "  longest_string = max(data_split, key = len)\n",
    "  longest_string_freq = data_split.count(longest_string)\n",
    "  return(longest_string, longest_string_freq)"
   ]
  },
  {
   "cell_type": "code",
   "execution_count": null,
   "metadata": {},
   "outputs": [],
   "source": [
    "doctor_called = (\"The doctor called today to see if I had any problems getting my medication and if my condition had improved with the medication since I took it.\")\n",
    "\n",
    "def find_longest_string_and_freq(data):\n",
    "  doc = data.split()\n",
    "  longest_string = \"\"\n",
    "  for x in doc:\n",
    "    if len(x) > len(longest_string):\n",
    "      longest_string = x\n",
    "  freq = doc.count(longest_string)\n",
    "  print((longest_string, freq))\n",
    "\n",
    "find_longest_string_and_freq(doctor_called)"
   ]
  },
  {
   "cell_type": "code",
   "execution_count": null,
   "metadata": {},
   "outputs": [],
   "source": [
    "# lab 1 prompt 2\n",
    "dog = 'cat'\n",
    "cat = 'dog'\n",
    "\n",
    "(dog, cat) = (cat, dog)\n",
    "print(\"Value of variable 'dog':\", dog)\n",
    "print(\"Value of variable 'cat':\", cat)"
   ]
  },
  {
   "cell_type": "code",
   "execution_count": null,
   "metadata": {},
   "outputs": [],
   "source": [
    "dog = 'cat'\n",
    "cat = 'dog'\n",
    "cat, dog = dog, cat\n",
    "print(f\"Value of variable 'dog': {dog}\")\n",
    "print(f\"Value of variable 'cat': {cat}\")"
   ]
  },
  {
   "cell_type": "code",
   "execution_count": null,
   "metadata": {},
   "outputs": [],
   "source": [
    "# lab 2 prompt 1\n",
    "midterm_grades = (('Mackenzie', 89), ('Nakai', 92), ('Dante', 85), ('Max', 96), ('Hadja', 98), ('Jayda', 90))\n",
    "def find_avg_grade(data):\n",
    "  sum_of_grades = 0\n",
    "  count = 0\n",
    "  for element in data:\n",
    "    sum_of_grades += element[1]\n",
    "    count += 1\n",
    "  return(round((sum_of_grades / count), 2))"
   ]
  },
  {
   "cell_type": "code",
   "execution_count": null,
   "metadata": {},
   "outputs": [],
   "source": [
    "midterm_grades = (('Mackenzie', 89), ('Nakai', 92), ('Dante', 85), ('Max', 96), ('Hadja', 98), ('Jayda', 90))\n",
    "\n",
    "def find_avg_grade(midterm_grades):\n",
    "  name, grade = zip(*midterm_grades)\n",
    "  total = sum(grade)\n",
    "  string = round(total/len(grade), 2)\n",
    "  return string\n",
    "  \n",
    "\n",
    "string = find_avg_grade(midterm_grades)\n",
    "print(string)"
   ]
  },
  {
   "cell_type": "code",
   "execution_count": null,
   "metadata": {},
   "outputs": [],
   "source": [
    "# lab 2 prompt 2\n",
    "values = ((9,4), (3,6), (4,9), (3,4))\n",
    "def find_unique_tuple_freq(data):\n",
    "  unique_tuple_freq = len(list(set(tuple(sorted(subtuple)) for subtuple in list(data))))\n",
    "  return(unique_tuple_freq)"
   ]
  },
  {
   "cell_type": "code",
   "execution_count": null,
   "metadata": {},
   "outputs": [],
   "source": [
    "values = ((9,4), (3,6), (4,9), (3,4))\n",
    "def find_unique_tuple_freq(values):\n",
    "  count = 0\n",
    "  for value in values:\n",
    "    # print(value.count(4))\n",
    "    if uniq in value:\n",
    "      count += 1\n",
    "  return(count)\n",
    "\n",
    "count = find_unique_tuple_freq(values)\n",
    "print(count)"
   ]
  },
  {
   "cell_type": "code",
   "execution_count": null,
   "metadata": {},
   "outputs": [],
   "source": [
    "# lab challenge 1\n",
    "all_menu_items = ((2019, 'Appetizer', 8, 4, 0, 2, 4.375), (2022, 'Appetizer', 8, 4, 1, 2, 4.6875), (2022, 'Appetizer', 4, 3, 0, 5, 3.75), (2016, 'Appetizer', 5, 6, 0, 4, 4.6875), (2016, 'Appetizer', 7, 8, 2, 8, 7.8125), (2018, 'Appetizer', 5, 4, 1, 8, 5.625), (2020, 'Sandwich', 8, 4, 0, 6, 5.625), (2018, 'Sandwich', 7, 10, 1, 9, 8.4375), (2016, 'Sandwich', 10, 7, 0, 10, 8.4375), (2021, 'Sandwich', 9, 7, 0, 10, 8.125), (2016, 'Sandwich', 9, 6, 0, 7, 6.875), (2016, 'Entree', 9, 7, 0, 6, 6.875), (2018, 'Entree', 7, 4, 0, 6, 5.3125), (2019, 'Entree', 8, 10, 2, 9, 9.0625), (2019, 'Entree', 8, 8, 0, 10, 8.125), (2016, 'Dessert', 3, 9, 2, 10, 7.5), (2019, 'Dessert', 3, 9, 1, 2, 4.6875), (2019, 'Dessert', 4, 8, 0, 6, 5.625), (2022, 'Dessert', 5, 10, 2, 4, 6.5625))\n",
    "print(\"All Menu Items:\", all_menu_items)\n",
    "\n",
    "menu_item_ratings_list = [element[6] for element in all_menu_items]\n",
    "menu_item_ratings = tuple(menu_item_ratings_list)\n",
    "print(\"Menu Item Ratings:\", menu_item_ratings)\n",
    "\n",
    "average_menu_item_rating = round((sum(menu_item_ratings)/len(menu_item_ratings)), 4)\n",
    "print(\"Average Menu Item Rating:\", average_menu_item_rating)\n",
    "\n",
    "# lab challenge 2\n",
    "menu_items = ('Sampler', 'Antipasto Platter', 'Zuchinni Sticks', 'Garlic Bread', 'Bruschetta Trio', 'Stuffed Portabella', 'Eggplant Parm Sandwich', \"Chick'n Caesar Wrap\", 'Italian Deli', 'Classic Burger', 'Meatball on a Ciabatta', \"Chick'n Parmesan\", 'Eggplant Parmesan', 'Lasagna', 'Spaghetti Meatballs', 'Tiramisu', 'Cannoli', 'Chocolate Cake', 'Chocolate Almond Croissant')\n",
    "print(\"Menu Items Ranked In Order from Best to Worst:\\n\")\n",
    "for counter_value, (menu_item, menu_item_rating) in enumerate(sorted(zip(menu_items, menu_item_ratings), key = lambda element: element[1], reverse = True), 1):\n",
    "  print(counter_value, \":\", menu_item, \"with a rating of:\", menu_item_rating, \".\")"
   ]
  },
  {
   "cell_type": "code",
   "execution_count": null,
   "metadata": {},
   "outputs": [],
   "source": [
    "all_menu_items = ((2019, 'Appetizer', 8, 4, 0, 2, 4.375), (2022, 'Appetizer', 8, 4, 1, 2, 4.6875), (2022, 'Appetizer', 4, 3, 0, 5, 3.75), (2016, 'Appetizer', 5, 6, 0, 4, 4.6875), (2016, 'Appetizer', 7, 8, 2, 8, 7.8125), (2018, 'Appetizer', 5, 4, 1, 8, 5.625), (2020, 'Sandwich', 8, 4, 0, 6, 5.625), (2018, 'Sandwich', 7, 10, 1, 9, 8.4375), (2016, 'Sandwich', 10, 7, 0, 10, 8.4375), (2021, 'Sandwich', 9, 7, 0, 10, 8.125), (2016, 'Sandwich', 9, 6, 0, 7, 6.875), (2016, 'Entree', 9, 7, 0, 6, 6.875), (2018, 'Entree', 7, 4, 0, 6, 5.3125), (2019, 'Entree', 8, 10, 2, 9, 9.0625), (2019, 'Entree', 8, 8, 0, 10, 8.125), (2016, 'Dessert', 3, 9, 2, 10, 7.5), (2019, 'Dessert', 3, 9, 1, 2, 4.6875), (2019, 'Dessert', 4, 8, 0, 6, 5.625), (2022, 'Dessert', 5, 10, 2, 4, 6.5625))\n",
    "menu_item_ratings = (4.375, 4.6875, 3.75, 4.6875, 7.8125, 5.625, 5.625, 8.4375, 8.4375, 8.125, 6.875, 6.875, 5.3125, 9.0625, 8.125, 7.5, 4.6875, 5.625, 6.5625)\n",
    "\n",
    "\n",
    "menu_item_total = sum(menu_item_ratings)\n",
    "average_menu_item_rating = round(menu_item_total/len(all_menu_items), 4)\n",
    "\n",
    "print(f\"All Menu Items: {all_menu_items}\")\n",
    "print(f\"Menu Item Ratings: {menu_item_ratings}\")\n",
    "print(f\"Average Menu Item: {average_menu_item_rating}\")\n",
    "\n"
   ]
  },
  {
   "cell_type": "code",
   "execution_count": null,
   "metadata": {},
   "outputs": [],
   "source": [
    "menu_item_ratings = (4.375, 4.6875, 3.75, 4.6875, 7.8125, 5.625, 5.625, 8.4375, 8.4375, 8.125, 6.875, 6.875, 5.3125, 9.0625, 8.125, 7.5, 4.6875, 5.625, 6.5625)\n",
    "menu_items = ('Sampler', 'Antipasto Platter', 'Zuchinni Sticks', 'Garlic Bread', 'Bruschetta Trio', 'Stuffed Portabella', 'Eggplant Parm Sandwich', \"Chick'n Caesar Wrap\", 'Italian Deli', 'Classic Burger', 'Meatball on a Ciabatta', \"Chick'n Parmesan\", 'Eggplant Parmesan', 'Lasagna', 'Spaghetti Meatballs', 'Tiramisu', 'Cannoli', 'Chocolate Cake', 'Chocolate Almond Croissant')\n",
    "\n",
    "menu = zip(menu_items, menu_item_ratings)\n",
    "sort_menu = sorted(menu, key = lambda x: x[1], reverse = True)\n",
    "for item, rating in enumerate(sort_menu,1):\n",
    "    \n",
    "    print(f\"{item} : {rating[0]} with the rating of: {rating[1]} .\")"
   ]
  }
 ],
 "metadata": {
  "language_info": {
   "name": "python"
  },
  "orig_nbformat": 4
 },
 "nbformat": 4,
 "nbformat_minor": 2
}
