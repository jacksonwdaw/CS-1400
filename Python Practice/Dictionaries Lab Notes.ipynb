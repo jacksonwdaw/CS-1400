{
 "cells": [
  {
   "cell_type": "code",
   "execution_count": null,
   "metadata": {},
   "outputs": [],
   "source": [
    "import json\n",
    "from PIL import Image\n",
    "\n",
    "def create_ascii(img_path):\n",
    "  pic = Image.open(img_path)\n",
    "  width, height = pic.size\n",
    "  aspect_ratio = height / width\n",
    "  new_width = 110\n",
    "  new_height = int(aspect_ratio * new_width)\n",
    "  img = pic.resize((new_width, new_height))\n",
    "  img = img.convert('L')\n",
    "  pixels = img.getdata()\n",
    "  chars = ['@', '#', 'S', '%', '?', '*', '+', ';', ':', ',', '.', ' ']\n",
    "  count = len(chars)\n",
    "  new_pixels = [chars[int(((count-1)*pixel)/256)] for pixel in pixels] \n",
    "  new_pixels = ''.join(new_pixels)\n",
    "  new_pixels_count = len(new_pixels)\n",
    "  ascii_image = [new_pixels[index:index + new_width] for index in range(0, new_pixels_count, new_width)]\n",
    "  ascii_image = '\\n'.join(ascii_image)\n",
    "  return ascii_image + '\\n'\n",
    "\n",
    "def create_new_dict(old_dict):\n",
    "  new_dict = {}\n",
    "  for key in old_dict:\n",
    "    nested_dict = old_dict[key]\n",
    "    new_key = parse_title(nested_dict)\n",
    "    new_dict[new_key] = nested_dict\n",
    "  for key in new_dict:\n",
    "    nested_dict = new_dict[key]\n",
    "    img_path = nested_dict['path']\n",
    "    nested_dict['ascii'] = create_ascii(img_path)\n",
    "  return new_dict\n",
    "\n",
    "def parse_title(d):\n",
    "  txt = d['path']\n",
    "  title = txt[12:-4]\n",
    "  return title\n",
    "\n",
    "def print_choices(d):\n",
    "  print('\\nEnter a number to see an ASCII image or \"q\" to quit:')\n",
    "  for index, key in enumerate(d):\n",
    "    print(f'{index + 1}) {key.title()}')\n",
    "  \n",
    "\n",
    "path = 'code/images.json'\n",
    "with open(path, 'r') as f:\n",
    "  data = json.load(f)\n",
    "\n",
    "images = create_new_dict(data)\n",
    "values = list(images.values())\n",
    "correct_input = ['1','2','3','4','5','6']\n",
    "while True:\n",
    "  print_choices(images)\n",
    "  choice = input('> ')\n",
    "  if choice == 'q':\n",
    "    print('Thanks for looking')\n",
    "    break\n",
    "  elif choice in correct_input:\n",
    "    index = int(choice) - 1\n",
    "    print(values[index]['ascii'])"
   ]
  },
  {
   "cell_type": "code",
   "execution_count": 1,
   "metadata": {},
   "outputs": [
    {
     "name": "stdout",
     "output_type": "stream",
     "text": [
      "Key not found\n",
      "0\n",
      "2\n"
     ]
    }
   ],
   "source": [
    "# WRITE YOUR CODE HERE\n",
    "\n",
    "def key_position(d,k): \n",
    "  keys = list(d.keys())\n",
    "  if k in keys:\n",
    "    return keys.index(k)\n",
    "  else:\n",
    "    return \"Key not found\"\n",
    "\n",
    "\n",
    "# test code below\n",
    "if __name__ == \"__main__\":\n",
    "  cities = {\n",
    "    'London' : 'England',\n",
    "    'Mumbai' : 'India',\n",
    "    'Lausanne' : 'Switzerland',\n",
    "    'Estes Park' : 'Colorado'\n",
    "  }\n",
    "\n",
    "print(key_position(cities, 'Boston'))\n",
    "print(key_position(cities, 'London'))\n",
    "print(key_position(cities, 'Lausanne'))\n",
    "\n"
   ]
  }
 ],
 "metadata": {
  "kernelspec": {
   "display_name": "Python 3",
   "language": "python",
   "name": "python3"
  },
  "language_info": {
   "codemirror_mode": {
    "name": "ipython",
    "version": 3
   },
   "file_extension": ".py",
   "mimetype": "text/x-python",
   "name": "python",
   "nbconvert_exporter": "python",
   "pygments_lexer": "ipython3",
   "version": "3.11.1"
  },
  "orig_nbformat": 4
 },
 "nbformat": 4,
 "nbformat_minor": 2
}
