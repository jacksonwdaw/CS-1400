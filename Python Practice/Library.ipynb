{
 "cells": [
  {
   "cell_type": "code",
   "execution_count": null,
   "metadata": {},
   "outputs": [],
   "source": []
  },
  {
   "cell_type": "code",
   "execution_count": 5,
   "metadata": {},
   "outputs": [
    {
     "ename": "FileNotFoundError",
     "evalue": "[Errno 2] No such file or directory: '--ip=127.0.0.1'",
     "output_type": "error",
     "traceback": [
      "\u001b[1;31m---------------------------------------------------------------------------\u001b[0m",
      "\u001b[1;31mFileNotFoundError\u001b[0m                         Traceback (most recent call last)",
      "Cell \u001b[1;32mIn[5], line 67\u001b[0m\n\u001b[0;32m     64\u001b[0m         move_text(\u001b[39m'\u001b[39m\u001b[39mbook_data.txt\u001b[39m\u001b[39m'\u001b[39m)\n\u001b[0;32m     66\u001b[0m \u001b[39mif\u001b[39;00m \u001b[39m__name__\u001b[39m \u001b[39m==\u001b[39m \u001b[39m\"\u001b[39m\u001b[39m__main__\u001b[39m\u001b[39m\"\u001b[39m:\n\u001b[1;32m---> 67\u001b[0m     main()\n",
      "Cell \u001b[1;32mIn[5], line 62\u001b[0m, in \u001b[0;36mmain\u001b[1;34m()\u001b[0m\n\u001b[0;32m     60\u001b[0m \u001b[39mdef\u001b[39;00m \u001b[39mmain\u001b[39m():\n\u001b[0;32m     61\u001b[0m     \u001b[39mif\u001b[39;00m \u001b[39mlen\u001b[39m(sys\u001b[39m.\u001b[39margv) \u001b[39m>\u001b[39m \u001b[39m1\u001b[39m:\n\u001b[1;32m---> 62\u001b[0m         move_text(sys\u001b[39m.\u001b[39;49margv[\u001b[39m1\u001b[39;49m])\n\u001b[0;32m     63\u001b[0m     \u001b[39melse\u001b[39;00m:\n\u001b[0;32m     64\u001b[0m         move_text(\u001b[39m'\u001b[39m\u001b[39mbook_data.txt\u001b[39m\u001b[39m'\u001b[39m)\n",
      "Cell \u001b[1;32mIn[5], line 44\u001b[0m, in \u001b[0;36mmove_text\u001b[1;34m(book_text_name)\u001b[0m\n\u001b[0;32m     42\u001b[0m \u001b[39mdef\u001b[39;00m \u001b[39mmove_text\u001b[39m(book_text_name):\n\u001b[1;32m---> 44\u001b[0m     books, summaries \u001b[39m=\u001b[39m sort_files(book_text_name)\n\u001b[0;32m     45\u001b[0m     \u001b[39mwith\u001b[39;00m  \u001b[39mopen\u001b[39m(book_text_name, \u001b[39m'\u001b[39m\u001b[39mw\u001b[39m\u001b[39m'\u001b[39m, encoding\u001b[39m=\u001b[39m \u001b[39m\"\u001b[39m\u001b[39mutf8\u001b[39m\u001b[39m\"\u001b[39m) \u001b[39mas\u001b[39;00m novel:\n\u001b[0;32m     46\u001b[0m         \u001b[39mfor\u001b[39;00m book_key, val \u001b[39min\u001b[39;00m books\u001b[39m.\u001b[39mitems():\n",
      "Cell \u001b[1;32mIn[5], line 20\u001b[0m, in \u001b[0;36msort_files\u001b[1;34m(book_text_name)\u001b[0m\n\u001b[0;32m     11\u001b[0m \u001b[39msum\u001b[39m \u001b[39m=\u001b[39m {\u001b[39m\"\u001b[39m\u001b[39mlongest\u001b[39m\u001b[39m\"\u001b[39m:\u001b[39m0\u001b[39m,\n\u001b[0;32m     12\u001b[0m        \u001b[39m\"\u001b[39m\u001b[39mlongest line\u001b[39m\u001b[39m\"\u001b[39m:\u001b[39m\"\u001b[39m\u001b[39m\"\u001b[39m,\n\u001b[0;32m     13\u001b[0m        \u001b[39m\"\u001b[39m\u001b[39mlongest line num\u001b[39m\u001b[39m\"\u001b[39m:\u001b[39m0\u001b[39m,\n\u001b[1;32m   (...)\u001b[0m\n\u001b[0;32m     17\u001b[0m         \u001b[39m\"\u001b[39m\u001b[39mavg\u001b[39m\u001b[39m\"\u001b[39m:\u001b[39m0\u001b[39m\n\u001b[0;32m     18\u001b[0m     }\n\u001b[0;32m     19\u001b[0m summaries \u001b[39m=\u001b[39m {\u001b[39m\"\u001b[39m\u001b[39mALG\u001b[39m\u001b[39m\"\u001b[39m:\u001b[39msum\u001b[39m\u001b[39m.\u001b[39mcopy(), \u001b[39m\"\u001b[39m\u001b[39mTTL\u001b[39m\u001b[39m\"\u001b[39m:\u001b[39msum\u001b[39m\u001b[39m.\u001b[39mcopy(), \u001b[39m\"\u001b[39m\u001b[39mWOO\u001b[39m\u001b[39m\"\u001b[39m:\u001b[39msum\u001b[39m\u001b[39m.\u001b[39mcopy()}\n\u001b[1;32m---> 20\u001b[0m \u001b[39mwith\u001b[39;00m \u001b[39mopen\u001b[39;49m(book_text_name, \u001b[39m'\u001b[39;49m\u001b[39mr\u001b[39;49m\u001b[39m'\u001b[39;49m, encoding\u001b[39m=\u001b[39;49m \u001b[39m\"\u001b[39;49m\u001b[39mutf8\u001b[39;49m\u001b[39m\"\u001b[39;49m) \u001b[39mas\u001b[39;00m lib:\n\u001b[0;32m     21\u001b[0m     library \u001b[39m=\u001b[39m lib\u001b[39m.\u001b[39mreadlines()\n\u001b[0;32m     22\u001b[0m     \u001b[39mfor\u001b[39;00m line \u001b[39min\u001b[39;00m library:\n",
      "File \u001b[1;32m~\\AppData\\Roaming\\Python\\Python311\\site-packages\\IPython\\core\\interactiveshell.py:284\u001b[0m, in \u001b[0;36m_modified_open\u001b[1;34m(file, *args, **kwargs)\u001b[0m\n\u001b[0;32m    277\u001b[0m \u001b[39mif\u001b[39;00m file \u001b[39min\u001b[39;00m {\u001b[39m0\u001b[39m, \u001b[39m1\u001b[39m, \u001b[39m2\u001b[39m}:\n\u001b[0;32m    278\u001b[0m     \u001b[39mraise\u001b[39;00m \u001b[39mValueError\u001b[39;00m(\n\u001b[0;32m    279\u001b[0m         \u001b[39mf\u001b[39m\u001b[39m\"\u001b[39m\u001b[39mIPython won\u001b[39m\u001b[39m'\u001b[39m\u001b[39mt let you open fd=\u001b[39m\u001b[39m{\u001b[39;00mfile\u001b[39m}\u001b[39;00m\u001b[39m by default \u001b[39m\u001b[39m\"\u001b[39m\n\u001b[0;32m    280\u001b[0m         \u001b[39m\"\u001b[39m\u001b[39mas it is likely to crash IPython. If you know what you are doing, \u001b[39m\u001b[39m\"\u001b[39m\n\u001b[0;32m    281\u001b[0m         \u001b[39m\"\u001b[39m\u001b[39myou can use builtins\u001b[39m\u001b[39m'\u001b[39m\u001b[39m open.\u001b[39m\u001b[39m\"\u001b[39m\n\u001b[0;32m    282\u001b[0m     )\n\u001b[1;32m--> 284\u001b[0m \u001b[39mreturn\u001b[39;00m io_open(file, \u001b[39m*\u001b[39;49margs, \u001b[39m*\u001b[39;49m\u001b[39m*\u001b[39;49mkwargs)\n",
      "\u001b[1;31mFileNotFoundError\u001b[0m: [Errno 2] No such file or directory: '--ip=127.0.0.1'"
     ]
    }
   ],
   "source": [
    "# TTL (Twenty Thousand Leugues) has 14644 lines\n",
    "# WOO (Wizard of Oz) has 3764 lines\n",
    "# ALG (Alice through the Looking glass) has 3006 lines\n",
    "from pprint import pprint\n",
    "import sys\n",
    "\n",
    "\n",
    "\n",
    "def sort_files(book_text_name):\n",
    "    books = {\"ALG\":[],\"TTL\":[], \"WOO\":[]}\n",
    "    sum = {\"longest\":0,\n",
    "           \"longest line\":\"\",\n",
    "           \"longest line num\":0,\n",
    "            \"shortest\": 1000,\n",
    "            \"shortest line\": \"\",\n",
    "            \"shortest line num\": 0,\n",
    "            \"avg\":0\n",
    "        }\n",
    "    summaries = {\"ALG\":sum.copy(), \"TTL\":sum.copy(), \"WOO\":sum.copy()}\n",
    "    with open(book_text_name, 'r', encoding= \"utf8\") as lib:\n",
    "        library = lib.readlines()\n",
    "        for line in library:\n",
    "            line = line[:-1]\n",
    "            bar = line.split(\"|\")\n",
    "            summaries[bar[2]][\"longest\"]\n",
    "            if len(bar[0]) > summaries[bar[2]][\"longest\"]:\n",
    "                summaries[bar[2]][\"longest\"] = len(bar[0])\n",
    "                summaries[bar[2]][\"longest line\"] = bar[0]\n",
    "                summaries[bar[2]][\"longest line num\"] = bar[1]\n",
    "            if len(bar[0]) < summaries[bar[2]][\"shortest\"]:\n",
    "                summaries[bar[2]][\"shortest\"] = len(bar[0])\n",
    "                summaries[bar[2]][\"shortest line\"] = bar[0]\n",
    "                summaries[bar[2]][\"shortest line num\"] = bar[1]\n",
    "            summaries[bar[2]][\"avg\"] += len(line)\n",
    "            books[bar[2]].append(bar)\n",
    "        for key, val in summaries.items():\n",
    "            summaries[key][\"avg\"] = summaries[key][\"avg\"]//len(books[key])\n",
    "        for key, val in books.items():\n",
    "            books[key].sort(key = lambda x: int(x[1])) \n",
    "        return books, summaries\n",
    "\n",
    "def move_text(book_text_name):\n",
    "\n",
    "    books, summaries = sort_files(book_text_name)\n",
    "    with  open(book_text_name, 'w', encoding= \"utf8\") as novel:\n",
    "        for book_key, val in books.items():\n",
    "            novel.write(f\"{book_key}\\n\")\n",
    "            for line in books[book_key]:\n",
    "                novel.write(f\"{line[0]}\\n\")\n",
    "                print(line[0])\n",
    "            novel.write(\"-----\\n\")\n",
    "    with open('novel_summary.txt', 'w', encoding= \"utf8\") as novel_summary:\n",
    "        for summary_key, val in summaries.items():\n",
    "            novel_summary.write(f\"{summary_key}\\n\")\n",
    "            novel_summary.write(f\"Longest line ({summaries[summary_key]['longest line num']}): {summaries[summary_key]['longest line']}\\n\")\n",
    "            novel_summary.write(f\"Shortest line ({summaries[summary_key]['shortest line num']}): {summaries[summary_key]['shortest line']}\\n\")\n",
    "            novel_summary.write(f\"Average length: {summaries[summary_key]['avg']}\\n\")\n",
    "            novel_summary.write(f\"\\n\")\n",
    "\n",
    "def main():\n",
    "    if len(sys.argv) > 1:\n",
    "        move_text(sys.argv[1])\n",
    "    else:\n",
    "        move_text('book_data.txt')\n",
    "\n",
    "if __name__ == \"__main__\":\n",
    "    main()\n"
   ]
  }
 ],
 "metadata": {
  "kernelspec": {
   "display_name": "Python 3",
   "language": "python",
   "name": "python3"
  },
  "language_info": {
   "codemirror_mode": {
    "name": "ipython",
    "version": 3
   },
   "file_extension": ".py",
   "mimetype": "text/x-python",
   "name": "python",
   "nbconvert_exporter": "python",
   "pygments_lexer": "ipython3",
   "version": "3.11.1"
  },
  "orig_nbformat": 4
 },
 "nbformat": 4,
 "nbformat_minor": 2
}
