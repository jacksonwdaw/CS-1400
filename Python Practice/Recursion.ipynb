{
 "cells": [
  {
   "cell_type": "code",
   "execution_count": 4,
   "metadata": {},
   "outputs": [],
   "source": [
    "import turtle\n",
    "\n",
    "t = turtle.Turtle()\n",
    "\n",
    "def recursive_tree(branch_length, angle, t):\n",
    "  \"\"\"Draw a tree recursively\"\"\"\n",
    "  if branch_length>5:\n",
    "    t.forward(branch_length)\n",
    "    t.right(angle)\n",
    "    recursive_tree(branch_length-15,angle,t)\n",
    "    t.left(angle*2)\n",
    "    recursive_tree(branch_length-15,angle,t)\n",
    "    t.right(angle)\n",
    "    t.backward(branch_length)\n",
    "  \n",
    "recursive_tree(45,20,t)\n",
    "turtle.mainloop()"
   ]
  }
 ],
 "metadata": {
  "kernelspec": {
   "display_name": "Python 3",
   "language": "python",
   "name": "python3"
  },
  "language_info": {
   "codemirror_mode": {
    "name": "ipython",
    "version": 3
   },
   "file_extension": ".py",
   "mimetype": "text/x-python",
   "name": "python",
   "nbconvert_exporter": "python",
   "pygments_lexer": "ipython3",
   "version": "3.11.1"
  },
  "orig_nbformat": 4
 },
 "nbformat": 4,
 "nbformat_minor": 2
}
