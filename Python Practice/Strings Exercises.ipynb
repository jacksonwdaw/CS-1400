{
 "cells": [
  {
   "cell_type": "code",
   "execution_count": 6,
   "metadata": {},
   "outputs": [
    {
     "name": "stdout",
     "output_type": "stream",
     "text": [
      "c is the first character and t is the last character\n"
     ]
    }
   ],
   "source": [
    "def char_print():\n",
    "    val = input()\n",
    "    print(f\"{val[0]} is the first character and {val[-1]} is the last character\")\n",
    "    \n",
    "\n",
    "char_print()\n"
   ]
  },
  {
   "cell_type": "code",
   "execution_count": 7,
   "metadata": {},
   "outputs": [
    {
     "name": "stdout",
     "output_type": "stream",
     "text": [
      "valvalval\n",
      "valvalval\n",
      "valvalval\n"
     ]
    }
   ],
   "source": [
    "def char_mult():\n",
    "    val = input()\n",
    "    val_length = len(val)\n",
    "    for num in range(val_length):\n",
    "        print(val * val_length)\n",
    "\n",
    "char_mult()\n"
   ]
  },
  {
   "cell_type": "code",
   "execution_count": 8,
   "metadata": {},
   "outputs": [
    {
     "name": "stdout",
     "output_type": "stream",
     "text": [
      "ulluu\n"
     ]
    },
    {
     "data": {
      "text/plain": [
       "'ulluu'"
      ]
     },
     "execution_count": 8,
     "metadata": {},
     "output_type": "execute_result"
    }
   ],
   "source": [
    "def char_replace():\n",
    "    val = input()\n",
    "    new_string = \"\"\n",
    "    for v in val:\n",
    "        if v.isupper():\n",
    "            new_string = new_string + \"u\"\n",
    "        elif v.islower():\n",
    "            new_string = new_string + \"l\"\n",
    "        else:\n",
    "            new_string = new_string + \"-\"\n",
    "    print(new_string)\n",
    "    return new_string\n",
    "\n",
    "char_replace()\n",
    "\n"
   ]
  },
  {
   "cell_type": "code",
   "execution_count": 18,
   "metadata": {},
   "outputs": [
    {
     "name": "stdout",
     "output_type": "stream",
     "text": [
      "tr\n",
      "ees\n"
     ]
    }
   ],
   "source": [
    "def char_split():\n",
    "    val = input()\n",
    "    half = len(val)\n",
    "    half = half//2\n",
    "    print(val[:half])\n",
    "    print(val[half:])\n",
    "\n",
    "char_split()"
   ]
  },
  {
   "cell_type": "code",
   "execution_count": 28,
   "metadata": {},
   "outputs": [
    {
     "name": "stdout",
     "output_type": "stream",
     "text": [
      "acsr\n"
     ]
    }
   ],
   "source": [
    "def char_switch():\n",
    "    val = input()\n",
    "    val_list = list(val)\n",
    "    for v in range(0, len(val_list), 2):\n",
    "        temp_val = val_list[v]\n",
    "        val_list[v] = val_list[v+1]\n",
    "        val_list[v+1] = temp_val\n",
    "    return \"\".join(val_list)\n",
    "\n",
    "print(char_switch())\n"
   ]
  }
 ],
 "metadata": {
  "kernelspec": {
   "display_name": "Python 3",
   "language": "python",
   "name": "python3"
  },
  "language_info": {
   "codemirror_mode": {
    "name": "ipython",
    "version": 3
   },
   "file_extension": ".py",
   "mimetype": "text/x-python",
   "name": "python",
   "nbconvert_exporter": "python",
   "pygments_lexer": "ipython3",
   "version": "3.11.1"
  },
  "orig_nbformat": 4
 },
 "nbformat": 4,
 "nbformat_minor": 2
}
