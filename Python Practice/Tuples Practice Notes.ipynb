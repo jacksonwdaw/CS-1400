{
 "cells": [
  {
   "attachments": {},
   "cell_type": "markdown",
   "metadata": {},
   "source": [
    "Execise 1"
   ]
  },
  {
   "cell_type": "code",
   "execution_count": 1,
   "metadata": {},
   "outputs": [
    {
     "name": "stdout",
     "output_type": "stream",
     "text": [
      "((9, 8), (14, 5), (54, 54), (7000, 1), (144, 983))\n",
      "Sorted Values: ((9, 8), (14, 5), (54, 54), (7000, 1), (144, 983))\n"
     ]
    }
   ],
   "source": [
    "values = ((14, 5), (9, 8), (144, 983), (7000, 1), (54, 54))\n",
    "def sort_values(values):\n",
    "    return_val = []\n",
    "    temp_tuple = ()\n",
    "    for i, a in enumerate(values):\n",
    "        temp_val = \"\"\n",
    "        for j, b in enumerate(a):\n",
    "            temp_val = temp_val + str(b)\n",
    "        temp_tuple = temp_tuple + (len(temp_val),)\n",
    "        return_val.append(tuple(a))\n",
    "    combined_tuple = zip(temp_tuple, (*return_val,))\n",
    "    return_val = tuple(return_val)\n",
    "    sort_val = tuple(sorted(combined_tuple, key = lambda x: x[0]))\n",
    "    dumb_val, sort_val = zip(*sort_val)\n",
    "    print(sort_val)\n",
    "    return sort_val\n",
    "\n",
    "\n",
    "sort_values(values)\n",
    "\n",
    "\n",
    "# sort_menu = sorted(menu, key = lambda x: x[1], reverse = True)\n",
    "\n",
    "# exercise 1 \"answer\"\n",
    "def sort_values(data):\n",
    "  sorted_values = tuple(sorted(data, key = lambda subtuple : sum([len(str(element)) for element in subtuple])))\n",
    "  return(sorted_values)\n",
    "print('Sorted Values:', sort_values(values))"
   ]
  },
  {
   "attachments": {},
   "cell_type": "markdown",
   "metadata": {},
   "source": [
    "Exercise 2"
   ]
  },
  {
   "cell_type": "code",
   "execution_count": 5,
   "metadata": {},
   "outputs": [
    {
     "name": "stdout",
     "output_type": "stream",
     "text": [
      "(('MaKayden', 82), ('Nyron', 'Test not taken yet'), ('Taylor', 80), ('Noel', 'Test not taken yet'))\n"
     ]
    }
   ],
   "source": [
    "\n",
    "student_grades = (('MaKayden', 82), ('Nyron', 'N/A'), ('Taylor', 80), ('Noel', 'N/A'))\n",
    "def remove_NA(student_grades):\n",
    "    names, grades = zip(*student_grades)\n",
    "    grades = list(grades)\n",
    "    for i, grade in enumerate(grades):\n",
    "        if type(grade) == str:\n",
    "            grades[i] = \"Test not taken yet\"\n",
    "    student_grades = tuple(zip(names, grades))\n",
    "    print(student_grades)\n",
    "    return student_grades\n",
    "\n",
    "remove_NA(student_grades)\n"
   ]
  },
  {
   "attachments": {},
   "cell_type": "markdown",
   "metadata": {},
   "source": [
    "Exercise 3"
   ]
  },
  {
   "cell_type": "code",
   "execution_count": 11,
   "metadata": {},
   "outputs": [
    {
     "name": "stdout",
     "output_type": "stream",
     "text": [
      "(2.0, 2.0, 2.0, 2.0)\n"
     ]
    }
   ],
   "source": [
    "dividend = (10, 100, 1000, 10000)\n",
    "divisor = (5, 50, 500, 5000)\n",
    "\n",
    "def find_quotient(dividend, divisor):\n",
    "    answer = zip(dividend, divisor)\n",
    "    answer = (x/y for x,y in answer)\n",
    "    return tuple(answer)\n",
    "print(find_quotient(dividend, divisor))"
   ]
  },
  {
   "attachments": {},
   "cell_type": "markdown",
   "metadata": {},
   "source": [
    "Exercise 4"
   ]
  },
  {
   "cell_type": "code",
   "execution_count": 15,
   "metadata": {},
   "outputs": [
    {
     "name": "stdout",
     "output_type": "stream",
     "text": [
      "(40, 45, 126, 308)\n"
     ]
    }
   ],
   "source": [
    "numbers = (8, 5, 9, 14, 22)\n",
    "def find_adj_products(numbers):\n",
    "    l = ()\n",
    "    for i, number in enumerate(numbers):\n",
    "        pair = numbers[i:i+2]\n",
    "        if len(pair) == 1:\n",
    "            break\n",
    "        end_val = pair[0] * pair[1]\n",
    "        l = l + (end_val,)\n",
    "\n",
    "    return l\n",
    "\n",
    "print(find_adj_products(numbers))"
   ]
  },
  {
   "attachments": {},
   "cell_type": "markdown",
   "metadata": {},
   "source": [
    "Exercise 5"
   ]
  },
  {
   "cell_type": "code",
   "execution_count": 12,
   "metadata": {},
   "outputs": [
    {
     "name": "stdout",
     "output_type": "stream",
     "text": [
      "(1, 8, 60, 83)\n",
      "((0, 83), 83)\n"
     ]
    }
   ],
   "source": [
    "tuple_pairs = ((4, 5), (6, 14), (100, 40), (0, 83))\n",
    "def find_pair_diff(tuple_pairs):\n",
    "    list_pairs = list(tuple_pairs)\n",
    "    pairs = [abs(y-x) for x,y in list_pairs]\n",
    "    return tuple(pairs)\n",
    "def find_max_diff(tuple_pairs):\n",
    "    list_pairs = list(tuple_pairs)\n",
    "    pairs = [abs(y-x) for x,y in list_pairs]\n",
    "    highest_dif = max(pairs)\n",
    "    highest_dif_pair = max(list_pairs, key = lambda sub: abs(sub[1] - sub[0]))\n",
    "    return highest_dif_pair, highest_dif\n",
    "print(find_pair_diff(tuple_pairs))\n",
    "print(find_max_diff(tuple_pairs))"
   ]
  }
 ],
 "metadata": {
  "kernelspec": {
   "display_name": "Python 3",
   "language": "python",
   "name": "python3"
  },
  "language_info": {
   "codemirror_mode": {
    "name": "ipython",
    "version": 3
   },
   "file_extension": ".py",
   "mimetype": "text/x-python",
   "name": "python",
   "nbconvert_exporter": "python",
   "pygments_lexer": "ipython3",
   "version": "3.11.1"
  },
  "orig_nbformat": 4
 },
 "nbformat": 4,
 "nbformat_minor": 2
}
